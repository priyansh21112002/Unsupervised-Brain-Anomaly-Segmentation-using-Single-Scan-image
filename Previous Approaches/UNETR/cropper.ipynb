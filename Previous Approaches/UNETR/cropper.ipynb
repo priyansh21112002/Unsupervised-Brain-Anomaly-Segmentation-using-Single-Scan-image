{
 "cells": [
  {
   "cell_type": "code",
   "execution_count": 1,
   "id": "73e04019-af5c-46d2-a0c6-c02c63d5aec5",
   "metadata": {},
   "outputs": [
    {
     "name": "stdout",
     "output_type": "stream",
     "text": [
      "Image processing complete. Check the output folder for cropped and resized images.\n"
     ]
    }
   ],
   "source": [
    "import os\n",
    "import zipfile\n",
    "import cv2\n",
    "import numpy as np\n",
    "from PIL import Image\n",
    "\n",
    "# Function to crop the image by finding the first white pixel from each side\n",
    "def crop_image(image, margin=2):\n",
    "    # Convert image to grayscale\n",
    "    gray_image = cv2.cvtColor(image, cv2.COLOR_BGR2GRAY)\n",
    "    \n",
    "    # Threshold the grayscale image to binary (white pixels are set to 255, black to 0)\n",
    "    _, binary_image = cv2.threshold(gray_image, 1, 255, cv2.THRESH_BINARY)\n",
    "\n",
    "    # Find the first and last non-black pixel in each dimension\n",
    "    rows = np.any(binary_image, axis=1)\n",
    "    cols = np.any(binary_image, axis=0)\n",
    "\n",
    "    y_min, y_max = np.where(rows)[0][[0, -1]]\n",
    "    x_min, x_max = np.where(cols)[0][[0, -1]]\n",
    "\n",
    "    # Add margin\n",
    "    y_min = max(0, y_min - margin)\n",
    "    y_max = min(binary_image.shape[0], y_max + margin)\n",
    "    x_min = max(0, x_min - margin)\n",
    "    x_max = min(binary_image.shape[1], x_max + margin)\n",
    "    \n",
    "    # Crop the image\n",
    "    cropped_image = image[y_min:y_max, x_min:x_max]\n",
    "    return cropped_image\n",
    "\n",
    "# Function to resize image to 512x512\n",
    "def resize_image(image, size=(512, 512)):\n",
    "    resized_image = cv2.resize(image, size, interpolation=cv2.INTER_AREA)\n",
    "    return resized_image\n",
    "\n",
    "# Extract the zip file\n",
    "def extract_zip(zip_path, extract_to):\n",
    "    with zipfile.ZipFile(zip_path, 'r') as zip_ref:\n",
    "        zip_ref.extractall(extract_to)\n",
    "\n",
    "# Main processing function\n",
    "def process_images(input_folder, output_folder):\n",
    "    if not os.path.exists(output_folder):\n",
    "        os.makedirs(output_folder)\n",
    "    \n",
    "    for image_name in os.listdir(input_folder):\n",
    "        if image_name.endswith(\".png\") or image_name.endswith(\".jpg\") or image_name.endswith(\".jpeg\"):\n",
    "            image_path = os.path.join(input_folder, image_name)\n",
    "            \n",
    "            # Read the image\n",
    "            image = cv2.imread(image_path)\n",
    "            \n",
    "            # Crop and resize the image\n",
    "            cropped_image = crop_image(image)\n",
    "            resized_image = resize_image(cropped_image)\n",
    "            \n",
    "            # Save the processed image\n",
    "            output_path = os.path.join(output_folder, image_name)\n",
    "            cv2.imwrite(output_path, resized_image)\n",
    "\n",
    "# Define paths\n",
    "zip_path = 'cropped.zip'  # Path to the uploaded zip file\n",
    "extract_folder = 'processed_images_t1'  # Path where images will be extracted\n",
    "output_folder = 'cropped'  # Path where processed images will be saved\n",
    "\n",
    "# Extract the images\n",
    "#extract_zip(zip_path, extract_folder)\n",
    "\n",
    "# Process images (crop and resize)\n",
    "process_images(extract_folder, output_folder)\n",
    "\n",
    "print(\"Image processing complete. Check the output folder for cropped and resized images.\")\n"
   ]
  },
  {
   "cell_type": "code",
   "execution_count": null,
   "id": "8cc76863-3260-4ae8-9d3f-179c9e1a4147",
   "metadata": {},
   "outputs": [],
   "source": []
  }
 ],
 "metadata": {
  "kernelspec": {
   "display_name": "Python 3 (ipykernel)",
   "language": "python",
   "name": "python3"
  },
  "language_info": {
   "codemirror_mode": {
    "name": "ipython",
    "version": 3
   },
   "file_extension": ".py",
   "mimetype": "text/x-python",
   "name": "python",
   "nbconvert_exporter": "python",
   "pygments_lexer": "ipython3",
   "version": "3.9.13"
  }
 },
 "nbformat": 4,
 "nbformat_minor": 5
}
